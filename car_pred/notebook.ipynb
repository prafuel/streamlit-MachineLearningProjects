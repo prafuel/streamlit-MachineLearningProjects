{
 "cells": [
  {
   "cell_type": "code",
   "execution_count": 6,
   "metadata": {},
   "outputs": [],
   "source": [
    "import pandas as pd\n",
    "import numpy as np"
   ]
  },
  {
   "cell_type": "code",
   "execution_count": 7,
   "metadata": {},
   "outputs": [],
   "source": [
    "df = pd.read_csv('./cars.csv')"
   ]
  },
  {
   "cell_type": "code",
   "execution_count": 8,
   "metadata": {},
   "outputs": [],
   "source": [
    "df.drop(columns=['Unnamed: 0','generation_name'], axis=1, inplace=True)"
   ]
  },
  {
   "cell_type": "code",
   "execution_count": 9,
   "metadata": {},
   "outputs": [
    {
     "data": {
      "text/plain": [
       "mark          0\n",
       "model         0\n",
       "year          0\n",
       "mileage       0\n",
       "vol_engine    0\n",
       "fuel          0\n",
       "city          0\n",
       "province      0\n",
       "price         0\n",
       "dtype: int64"
      ]
     },
     "execution_count": 9,
     "metadata": {},
     "output_type": "execute_result"
    }
   ],
   "source": [
    "df.isnull().sum()"
   ]
  },
  {
   "cell_type": "code",
   "execution_count": 10,
   "metadata": {},
   "outputs": [
    {
     "name": "stdout",
     "output_type": "stream",
     "text": [
      "<class 'pandas.core.frame.DataFrame'>\n",
      "RangeIndex: 117927 entries, 0 to 117926\n",
      "Data columns (total 9 columns):\n",
      " #   Column      Non-Null Count   Dtype \n",
      "---  ------      --------------   ----- \n",
      " 0   mark        117927 non-null  object\n",
      " 1   model       117927 non-null  object\n",
      " 2   year        117927 non-null  int64 \n",
      " 3   mileage     117927 non-null  int64 \n",
      " 4   vol_engine  117927 non-null  int64 \n",
      " 5   fuel        117927 non-null  object\n",
      " 6   city        117927 non-null  object\n",
      " 7   province    117927 non-null  object\n",
      " 8   price       117927 non-null  int64 \n",
      "dtypes: int64(4), object(5)\n",
      "memory usage: 8.1+ MB\n"
     ]
    }
   ],
   "source": [
    "df.info()"
   ]
  },
  {
   "cell_type": "code",
   "execution_count": 11,
   "metadata": {},
   "outputs": [
    {
     "data": {
      "text/html": [
       "<div>\n",
       "<style scoped>\n",
       "    .dataframe tbody tr th:only-of-type {\n",
       "        vertical-align: middle;\n",
       "    }\n",
       "\n",
       "    .dataframe tbody tr th {\n",
       "        vertical-align: top;\n",
       "    }\n",
       "\n",
       "    .dataframe thead th {\n",
       "        text-align: right;\n",
       "    }\n",
       "</style>\n",
       "<table border=\"1\" class=\"dataframe\">\n",
       "  <thead>\n",
       "    <tr style=\"text-align: right;\">\n",
       "      <th></th>\n",
       "      <th>mark</th>\n",
       "      <th>model</th>\n",
       "      <th>year</th>\n",
       "      <th>mileage</th>\n",
       "      <th>vol_engine</th>\n",
       "      <th>fuel</th>\n",
       "      <th>city</th>\n",
       "      <th>province</th>\n",
       "      <th>price</th>\n",
       "    </tr>\n",
       "  </thead>\n",
       "  <tbody>\n",
       "    <tr>\n",
       "      <th>0</th>\n",
       "      <td>opel</td>\n",
       "      <td>combo</td>\n",
       "      <td>2015</td>\n",
       "      <td>139568</td>\n",
       "      <td>1248</td>\n",
       "      <td>Diesel</td>\n",
       "      <td>Janki</td>\n",
       "      <td>Mazowieckie</td>\n",
       "      <td>35900</td>\n",
       "    </tr>\n",
       "    <tr>\n",
       "      <th>1</th>\n",
       "      <td>opel</td>\n",
       "      <td>combo</td>\n",
       "      <td>2018</td>\n",
       "      <td>31991</td>\n",
       "      <td>1499</td>\n",
       "      <td>Diesel</td>\n",
       "      <td>Katowice</td>\n",
       "      <td>Śląskie</td>\n",
       "      <td>78501</td>\n",
       "    </tr>\n",
       "    <tr>\n",
       "      <th>2</th>\n",
       "      <td>opel</td>\n",
       "      <td>combo</td>\n",
       "      <td>2015</td>\n",
       "      <td>278437</td>\n",
       "      <td>1598</td>\n",
       "      <td>Diesel</td>\n",
       "      <td>Brzeg</td>\n",
       "      <td>Opolskie</td>\n",
       "      <td>27000</td>\n",
       "    </tr>\n",
       "    <tr>\n",
       "      <th>3</th>\n",
       "      <td>opel</td>\n",
       "      <td>combo</td>\n",
       "      <td>2016</td>\n",
       "      <td>47600</td>\n",
       "      <td>1248</td>\n",
       "      <td>Diesel</td>\n",
       "      <td>Korfantów</td>\n",
       "      <td>Opolskie</td>\n",
       "      <td>30800</td>\n",
       "    </tr>\n",
       "    <tr>\n",
       "      <th>4</th>\n",
       "      <td>opel</td>\n",
       "      <td>combo</td>\n",
       "      <td>2014</td>\n",
       "      <td>103000</td>\n",
       "      <td>1400</td>\n",
       "      <td>CNG</td>\n",
       "      <td>Tarnowskie Góry</td>\n",
       "      <td>Śląskie</td>\n",
       "      <td>35900</td>\n",
       "    </tr>\n",
       "  </tbody>\n",
       "</table>\n",
       "</div>"
      ],
      "text/plain": [
       "   mark  model  year  mileage  vol_engine    fuel             city  \\\n",
       "0  opel  combo  2015   139568        1248  Diesel            Janki   \n",
       "1  opel  combo  2018    31991        1499  Diesel         Katowice   \n",
       "2  opel  combo  2015   278437        1598  Diesel            Brzeg   \n",
       "3  opel  combo  2016    47600        1248  Diesel        Korfantów   \n",
       "4  opel  combo  2014   103000        1400     CNG  Tarnowskie Góry   \n",
       "\n",
       "      province  price  \n",
       "0  Mazowieckie  35900  \n",
       "1      Śląskie  78501  \n",
       "2     Opolskie  27000  \n",
       "3     Opolskie  30800  \n",
       "4      Śląskie  35900  "
      ]
     },
     "execution_count": 11,
     "metadata": {},
     "output_type": "execute_result"
    }
   ],
   "source": [
    "df.head()"
   ]
  },
  {
   "cell_type": "code",
   "execution_count": 12,
   "metadata": {},
   "outputs": [],
   "source": [
    "df = df[df['province'] != '(']"
   ]
  },
  {
   "cell_type": "code",
   "execution_count": 13,
   "metadata": {},
   "outputs": [
    {
     "data": {
      "text/plain": [
       "array(['Diesel', 'CNG', 'Gasoline', 'LPG', 'Hybrid', 'Electric'],\n",
       "      dtype=object)"
      ]
     },
     "execution_count": 13,
     "metadata": {},
     "output_type": "execute_result"
    }
   ],
   "source": [
    "df['fuel'].unique()"
   ]
  },
  {
   "cell_type": "code",
   "execution_count": 14,
   "metadata": {},
   "outputs": [],
   "source": [
    "target = df['price']"
   ]
  },
  {
   "cell_type": "code",
   "execution_count": 15,
   "metadata": {},
   "outputs": [
    {
     "data": {
      "text/html": [
       "<div>\n",
       "<style scoped>\n",
       "    .dataframe tbody tr th:only-of-type {\n",
       "        vertical-align: middle;\n",
       "    }\n",
       "\n",
       "    .dataframe tbody tr th {\n",
       "        vertical-align: top;\n",
       "    }\n",
       "\n",
       "    .dataframe thead th {\n",
       "        text-align: right;\n",
       "    }\n",
       "</style>\n",
       "<table border=\"1\" class=\"dataframe\">\n",
       "  <thead>\n",
       "    <tr style=\"text-align: right;\">\n",
       "      <th></th>\n",
       "      <th>mark</th>\n",
       "      <th>model</th>\n",
       "      <th>year</th>\n",
       "      <th>mileage</th>\n",
       "      <th>vol_engine</th>\n",
       "      <th>fuel</th>\n",
       "      <th>city</th>\n",
       "      <th>province</th>\n",
       "      <th>price</th>\n",
       "    </tr>\n",
       "  </thead>\n",
       "  <tbody>\n",
       "    <tr>\n",
       "      <th>0</th>\n",
       "      <td>opel</td>\n",
       "      <td>combo</td>\n",
       "      <td>2015</td>\n",
       "      <td>139568</td>\n",
       "      <td>1248</td>\n",
       "      <td>Diesel</td>\n",
       "      <td>Janki</td>\n",
       "      <td>Mazowieckie</td>\n",
       "      <td>35900</td>\n",
       "    </tr>\n",
       "    <tr>\n",
       "      <th>1</th>\n",
       "      <td>opel</td>\n",
       "      <td>combo</td>\n",
       "      <td>2018</td>\n",
       "      <td>31991</td>\n",
       "      <td>1499</td>\n",
       "      <td>Diesel</td>\n",
       "      <td>Katowice</td>\n",
       "      <td>Śląskie</td>\n",
       "      <td>78501</td>\n",
       "    </tr>\n",
       "    <tr>\n",
       "      <th>2</th>\n",
       "      <td>opel</td>\n",
       "      <td>combo</td>\n",
       "      <td>2015</td>\n",
       "      <td>278437</td>\n",
       "      <td>1598</td>\n",
       "      <td>Diesel</td>\n",
       "      <td>Brzeg</td>\n",
       "      <td>Opolskie</td>\n",
       "      <td>27000</td>\n",
       "    </tr>\n",
       "    <tr>\n",
       "      <th>3</th>\n",
       "      <td>opel</td>\n",
       "      <td>combo</td>\n",
       "      <td>2016</td>\n",
       "      <td>47600</td>\n",
       "      <td>1248</td>\n",
       "      <td>Diesel</td>\n",
       "      <td>Korfantów</td>\n",
       "      <td>Opolskie</td>\n",
       "      <td>30800</td>\n",
       "    </tr>\n",
       "    <tr>\n",
       "      <th>4</th>\n",
       "      <td>opel</td>\n",
       "      <td>combo</td>\n",
       "      <td>2014</td>\n",
       "      <td>103000</td>\n",
       "      <td>1400</td>\n",
       "      <td>CNG</td>\n",
       "      <td>Tarnowskie Góry</td>\n",
       "      <td>Śląskie</td>\n",
       "      <td>35900</td>\n",
       "    </tr>\n",
       "    <tr>\n",
       "      <th>...</th>\n",
       "      <td>...</td>\n",
       "      <td>...</td>\n",
       "      <td>...</td>\n",
       "      <td>...</td>\n",
       "      <td>...</td>\n",
       "      <td>...</td>\n",
       "      <td>...</td>\n",
       "      <td>...</td>\n",
       "      <td>...</td>\n",
       "    </tr>\n",
       "    <tr>\n",
       "      <th>117921</th>\n",
       "      <td>volvo</td>\n",
       "      <td>xc-90</td>\n",
       "      <td>2020</td>\n",
       "      <td>40000</td>\n",
       "      <td>1969</td>\n",
       "      <td>Hybrid</td>\n",
       "      <td>Katowice</td>\n",
       "      <td>Śląskie</td>\n",
       "      <td>222790</td>\n",
       "    </tr>\n",
       "    <tr>\n",
       "      <th>117922</th>\n",
       "      <td>volvo</td>\n",
       "      <td>xc-90</td>\n",
       "      <td>2017</td>\n",
       "      <td>51000</td>\n",
       "      <td>1969</td>\n",
       "      <td>Diesel</td>\n",
       "      <td>Chechło Pierwsze</td>\n",
       "      <td>Łódzkie</td>\n",
       "      <td>229900</td>\n",
       "    </tr>\n",
       "    <tr>\n",
       "      <th>117923</th>\n",
       "      <td>volvo</td>\n",
       "      <td>xc-90</td>\n",
       "      <td>2016</td>\n",
       "      <td>83500</td>\n",
       "      <td>1969</td>\n",
       "      <td>Gasoline</td>\n",
       "      <td>Pruszcz Gdański</td>\n",
       "      <td>Pomorskie</td>\n",
       "      <td>135000</td>\n",
       "    </tr>\n",
       "    <tr>\n",
       "      <th>117924</th>\n",
       "      <td>volvo</td>\n",
       "      <td>xc-90</td>\n",
       "      <td>2017</td>\n",
       "      <td>174000</td>\n",
       "      <td>1969</td>\n",
       "      <td>Diesel</td>\n",
       "      <td>Kalisz</td>\n",
       "      <td>Wielkopolskie</td>\n",
       "      <td>154500</td>\n",
       "    </tr>\n",
       "    <tr>\n",
       "      <th>117925</th>\n",
       "      <td>volvo</td>\n",
       "      <td>xc-90</td>\n",
       "      <td>2016</td>\n",
       "      <td>189020</td>\n",
       "      <td>1969</td>\n",
       "      <td>Gasoline</td>\n",
       "      <td>Sionna</td>\n",
       "      <td>Mazowieckie</td>\n",
       "      <td>130000</td>\n",
       "    </tr>\n",
       "  </tbody>\n",
       "</table>\n",
       "<p>117926 rows × 9 columns</p>\n",
       "</div>"
      ],
      "text/plain": [
       "         mark  model  year  mileage  vol_engine      fuel              city  \\\n",
       "0        opel  combo  2015   139568        1248    Diesel             Janki   \n",
       "1        opel  combo  2018    31991        1499    Diesel          Katowice   \n",
       "2        opel  combo  2015   278437        1598    Diesel             Brzeg   \n",
       "3        opel  combo  2016    47600        1248    Diesel         Korfantów   \n",
       "4        opel  combo  2014   103000        1400       CNG   Tarnowskie Góry   \n",
       "...       ...    ...   ...      ...         ...       ...               ...   \n",
       "117921  volvo  xc-90  2020    40000        1969    Hybrid          Katowice   \n",
       "117922  volvo  xc-90  2017    51000        1969    Diesel  Chechło Pierwsze   \n",
       "117923  volvo  xc-90  2016    83500        1969  Gasoline   Pruszcz Gdański   \n",
       "117924  volvo  xc-90  2017   174000        1969    Diesel            Kalisz   \n",
       "117925  volvo  xc-90  2016   189020        1969  Gasoline            Sionna   \n",
       "\n",
       "             province   price  \n",
       "0         Mazowieckie   35900  \n",
       "1             Śląskie   78501  \n",
       "2            Opolskie   27000  \n",
       "3            Opolskie   30800  \n",
       "4             Śląskie   35900  \n",
       "...               ...     ...  \n",
       "117921        Śląskie  222790  \n",
       "117922        Łódzkie  229900  \n",
       "117923      Pomorskie  135000  \n",
       "117924  Wielkopolskie  154500  \n",
       "117925    Mazowieckie  130000  \n",
       "\n",
       "[117926 rows x 9 columns]"
      ]
     },
     "execution_count": 15,
     "metadata": {},
     "output_type": "execute_result"
    }
   ],
   "source": [
    "df.reset_index(drop=True)"
   ]
  },
  {
   "cell_type": "code",
   "execution_count": 16,
   "metadata": {},
   "outputs": [
    {
     "data": {
      "text/html": [
       "<div>\n",
       "<style scoped>\n",
       "    .dataframe tbody tr th:only-of-type {\n",
       "        vertical-align: middle;\n",
       "    }\n",
       "\n",
       "    .dataframe tbody tr th {\n",
       "        vertical-align: top;\n",
       "    }\n",
       "\n",
       "    .dataframe thead th {\n",
       "        text-align: right;\n",
       "    }\n",
       "</style>\n",
       "<table border=\"1\" class=\"dataframe\">\n",
       "  <thead>\n",
       "    <tr style=\"text-align: right;\">\n",
       "      <th></th>\n",
       "      <th>year</th>\n",
       "      <th>mileage</th>\n",
       "      <th>vol_engine</th>\n",
       "      <th>price</th>\n",
       "    </tr>\n",
       "  </thead>\n",
       "  <tbody>\n",
       "    <tr>\n",
       "      <th>count</th>\n",
       "      <td>117926.000000</td>\n",
       "      <td>1.179260e+05</td>\n",
       "      <td>117926.000000</td>\n",
       "      <td>1.179260e+05</td>\n",
       "    </tr>\n",
       "    <tr>\n",
       "      <th>mean</th>\n",
       "      <td>2012.925250</td>\n",
       "      <td>1.409764e+05</td>\n",
       "      <td>1812.056205</td>\n",
       "      <td>7.029995e+04</td>\n",
       "    </tr>\n",
       "    <tr>\n",
       "      <th>std</th>\n",
       "      <td>5.690158</td>\n",
       "      <td>9.236964e+04</td>\n",
       "      <td>643.615939</td>\n",
       "      <td>8.482493e+04</td>\n",
       "    </tr>\n",
       "    <tr>\n",
       "      <th>min</th>\n",
       "      <td>1945.000000</td>\n",
       "      <td>0.000000e+00</td>\n",
       "      <td>0.000000</td>\n",
       "      <td>5.000000e+02</td>\n",
       "    </tr>\n",
       "    <tr>\n",
       "      <th>25%</th>\n",
       "      <td>2009.000000</td>\n",
       "      <td>6.700000e+04</td>\n",
       "      <td>1461.000000</td>\n",
       "      <td>2.100000e+04</td>\n",
       "    </tr>\n",
       "    <tr>\n",
       "      <th>50%</th>\n",
       "      <td>2013.000000</td>\n",
       "      <td>1.462685e+05</td>\n",
       "      <td>1796.000000</td>\n",
       "      <td>4.190000e+04</td>\n",
       "    </tr>\n",
       "    <tr>\n",
       "      <th>75%</th>\n",
       "      <td>2018.000000</td>\n",
       "      <td>2.030000e+05</td>\n",
       "      <td>1995.000000</td>\n",
       "      <td>8.360000e+04</td>\n",
       "    </tr>\n",
       "    <tr>\n",
       "      <th>max</th>\n",
       "      <td>2022.000000</td>\n",
       "      <td>2.800000e+06</td>\n",
       "      <td>7600.000000</td>\n",
       "      <td>2.399900e+06</td>\n",
       "    </tr>\n",
       "  </tbody>\n",
       "</table>\n",
       "</div>"
      ],
      "text/plain": [
       "                year       mileage     vol_engine         price\n",
       "count  117926.000000  1.179260e+05  117926.000000  1.179260e+05\n",
       "mean     2012.925250  1.409764e+05    1812.056205  7.029995e+04\n",
       "std         5.690158  9.236964e+04     643.615939  8.482493e+04\n",
       "min      1945.000000  0.000000e+00       0.000000  5.000000e+02\n",
       "25%      2009.000000  6.700000e+04    1461.000000  2.100000e+04\n",
       "50%      2013.000000  1.462685e+05    1796.000000  4.190000e+04\n",
       "75%      2018.000000  2.030000e+05    1995.000000  8.360000e+04\n",
       "max      2022.000000  2.800000e+06    7600.000000  2.399900e+06"
      ]
     },
     "execution_count": 16,
     "metadata": {},
     "output_type": "execute_result"
    }
   ],
   "source": [
    "df.describe()"
   ]
  },
  {
   "cell_type": "code",
   "execution_count": 17,
   "metadata": {},
   "outputs": [],
   "source": [
    "df.to_csv(\"cleaned_cars.csv\")"
   ]
  },
  {
   "cell_type": "markdown",
   "metadata": {},
   "source": [
    "Model"
   ]
  },
  {
   "cell_type": "code",
   "execution_count": 18,
   "metadata": {},
   "outputs": [
    {
     "data": {
      "text/html": [
       "<div>\n",
       "<style scoped>\n",
       "    .dataframe tbody tr th:only-of-type {\n",
       "        vertical-align: middle;\n",
       "    }\n",
       "\n",
       "    .dataframe tbody tr th {\n",
       "        vertical-align: top;\n",
       "    }\n",
       "\n",
       "    .dataframe thead th {\n",
       "        text-align: right;\n",
       "    }\n",
       "</style>\n",
       "<table border=\"1\" class=\"dataframe\">\n",
       "  <thead>\n",
       "    <tr style=\"text-align: right;\">\n",
       "      <th></th>\n",
       "      <th>mark</th>\n",
       "      <th>model</th>\n",
       "      <th>year</th>\n",
       "      <th>mileage</th>\n",
       "      <th>vol_engine</th>\n",
       "      <th>fuel</th>\n",
       "      <th>city</th>\n",
       "      <th>province</th>\n",
       "      <th>price</th>\n",
       "    </tr>\n",
       "  </thead>\n",
       "  <tbody>\n",
       "    <tr>\n",
       "      <th>0</th>\n",
       "      <td>opel</td>\n",
       "      <td>combo</td>\n",
       "      <td>2015</td>\n",
       "      <td>139568</td>\n",
       "      <td>1248</td>\n",
       "      <td>Diesel</td>\n",
       "      <td>Janki</td>\n",
       "      <td>Mazowieckie</td>\n",
       "      <td>35900</td>\n",
       "    </tr>\n",
       "    <tr>\n",
       "      <th>1</th>\n",
       "      <td>opel</td>\n",
       "      <td>combo</td>\n",
       "      <td>2018</td>\n",
       "      <td>31991</td>\n",
       "      <td>1499</td>\n",
       "      <td>Diesel</td>\n",
       "      <td>Katowice</td>\n",
       "      <td>Śląskie</td>\n",
       "      <td>78501</td>\n",
       "    </tr>\n",
       "    <tr>\n",
       "      <th>2</th>\n",
       "      <td>opel</td>\n",
       "      <td>combo</td>\n",
       "      <td>2015</td>\n",
       "      <td>278437</td>\n",
       "      <td>1598</td>\n",
       "      <td>Diesel</td>\n",
       "      <td>Brzeg</td>\n",
       "      <td>Opolskie</td>\n",
       "      <td>27000</td>\n",
       "    </tr>\n",
       "    <tr>\n",
       "      <th>3</th>\n",
       "      <td>opel</td>\n",
       "      <td>combo</td>\n",
       "      <td>2016</td>\n",
       "      <td>47600</td>\n",
       "      <td>1248</td>\n",
       "      <td>Diesel</td>\n",
       "      <td>Korfantów</td>\n",
       "      <td>Opolskie</td>\n",
       "      <td>30800</td>\n",
       "    </tr>\n",
       "    <tr>\n",
       "      <th>4</th>\n",
       "      <td>opel</td>\n",
       "      <td>combo</td>\n",
       "      <td>2014</td>\n",
       "      <td>103000</td>\n",
       "      <td>1400</td>\n",
       "      <td>CNG</td>\n",
       "      <td>Tarnowskie Góry</td>\n",
       "      <td>Śląskie</td>\n",
       "      <td>35900</td>\n",
       "    </tr>\n",
       "    <tr>\n",
       "      <th>...</th>\n",
       "      <td>...</td>\n",
       "      <td>...</td>\n",
       "      <td>...</td>\n",
       "      <td>...</td>\n",
       "      <td>...</td>\n",
       "      <td>...</td>\n",
       "      <td>...</td>\n",
       "      <td>...</td>\n",
       "      <td>...</td>\n",
       "    </tr>\n",
       "    <tr>\n",
       "      <th>117922</th>\n",
       "      <td>volvo</td>\n",
       "      <td>xc-90</td>\n",
       "      <td>2020</td>\n",
       "      <td>40000</td>\n",
       "      <td>1969</td>\n",
       "      <td>Hybrid</td>\n",
       "      <td>Katowice</td>\n",
       "      <td>Śląskie</td>\n",
       "      <td>222790</td>\n",
       "    </tr>\n",
       "    <tr>\n",
       "      <th>117923</th>\n",
       "      <td>volvo</td>\n",
       "      <td>xc-90</td>\n",
       "      <td>2017</td>\n",
       "      <td>51000</td>\n",
       "      <td>1969</td>\n",
       "      <td>Diesel</td>\n",
       "      <td>Chechło Pierwsze</td>\n",
       "      <td>Łódzkie</td>\n",
       "      <td>229900</td>\n",
       "    </tr>\n",
       "    <tr>\n",
       "      <th>117924</th>\n",
       "      <td>volvo</td>\n",
       "      <td>xc-90</td>\n",
       "      <td>2016</td>\n",
       "      <td>83500</td>\n",
       "      <td>1969</td>\n",
       "      <td>Gasoline</td>\n",
       "      <td>Pruszcz Gdański</td>\n",
       "      <td>Pomorskie</td>\n",
       "      <td>135000</td>\n",
       "    </tr>\n",
       "    <tr>\n",
       "      <th>117925</th>\n",
       "      <td>volvo</td>\n",
       "      <td>xc-90</td>\n",
       "      <td>2017</td>\n",
       "      <td>174000</td>\n",
       "      <td>1969</td>\n",
       "      <td>Diesel</td>\n",
       "      <td>Kalisz</td>\n",
       "      <td>Wielkopolskie</td>\n",
       "      <td>154500</td>\n",
       "    </tr>\n",
       "    <tr>\n",
       "      <th>117926</th>\n",
       "      <td>volvo</td>\n",
       "      <td>xc-90</td>\n",
       "      <td>2016</td>\n",
       "      <td>189020</td>\n",
       "      <td>1969</td>\n",
       "      <td>Gasoline</td>\n",
       "      <td>Sionna</td>\n",
       "      <td>Mazowieckie</td>\n",
       "      <td>130000</td>\n",
       "    </tr>\n",
       "  </tbody>\n",
       "</table>\n",
       "<p>117926 rows × 9 columns</p>\n",
       "</div>"
      ],
      "text/plain": [
       "         mark  model  year  mileage  vol_engine      fuel              city  \\\n",
       "0        opel  combo  2015   139568        1248    Diesel             Janki   \n",
       "1        opel  combo  2018    31991        1499    Diesel          Katowice   \n",
       "2        opel  combo  2015   278437        1598    Diesel             Brzeg   \n",
       "3        opel  combo  2016    47600        1248    Diesel         Korfantów   \n",
       "4        opel  combo  2014   103000        1400       CNG   Tarnowskie Góry   \n",
       "...       ...    ...   ...      ...         ...       ...               ...   \n",
       "117922  volvo  xc-90  2020    40000        1969    Hybrid          Katowice   \n",
       "117923  volvo  xc-90  2017    51000        1969    Diesel  Chechło Pierwsze   \n",
       "117924  volvo  xc-90  2016    83500        1969  Gasoline   Pruszcz Gdański   \n",
       "117925  volvo  xc-90  2017   174000        1969    Diesel            Kalisz   \n",
       "117926  volvo  xc-90  2016   189020        1969  Gasoline            Sionna   \n",
       "\n",
       "             province   price  \n",
       "0         Mazowieckie   35900  \n",
       "1             Śląskie   78501  \n",
       "2            Opolskie   27000  \n",
       "3            Opolskie   30800  \n",
       "4             Śląskie   35900  \n",
       "...               ...     ...  \n",
       "117922        Śląskie  222790  \n",
       "117923        Łódzkie  229900  \n",
       "117924      Pomorskie  135000  \n",
       "117925  Wielkopolskie  154500  \n",
       "117926    Mazowieckie  130000  \n",
       "\n",
       "[117926 rows x 9 columns]"
      ]
     },
     "execution_count": 18,
     "metadata": {},
     "output_type": "execute_result"
    }
   ],
   "source": [
    "df"
   ]
  },
  {
   "cell_type": "code",
   "execution_count": 19,
   "metadata": {},
   "outputs": [],
   "source": [
    "import seaborn as snb"
   ]
  },
  {
   "cell_type": "code",
   "execution_count": 20,
   "metadata": {},
   "outputs": [
    {
     "data": {
      "text/plain": [
       "<Axes: xlabel='price', ylabel='Count'>"
      ]
     },
     "execution_count": 20,
     "metadata": {},
     "output_type": "execute_result"
    },
    {
     "data": {
      "image/png": "[encoded data removed]",
      "text/plain": [
       "<Figure size 640x480 with 1 Axes>"
      ]
     },
     "metadata": {},
     "output_type": "display_data"
    }
   ],
   "source": [
    "snb.histplot(x = df['price'], bins=100)"
   ]
  },
  {
   "cell_type": "code",
   "execution_count": 55,
   "metadata": {},
   "outputs": [],
   "source": [
    "X = df.drop(columns=['price','province'])"
   ]
  },
  {
   "cell_type": "code",
   "execution_count": 56,
   "metadata": {},
   "outputs": [],
   "source": [
    "y = df['price']"
   ]
  },
  {
   "cell_type": "code",
   "execution_count": 57,
   "metadata": {},
   "outputs": [],
   "source": [
    "from sklearn.model_selection import train_test_split"
   ]
  },
  {
   "cell_type": "code",
   "execution_count": 58,
   "metadata": {},
   "outputs": [],
   "source": [
    "X_train, x_test, y_train, y_test = train_test_split(X,y, test_size=0.3)"
   ]
  },
  {
   "cell_type": "code",
   "execution_count": 59,
   "metadata": {},
   "outputs": [
    {
     "data": {
      "text/html": [
       "<div>\n",
       "<style scoped>\n",
       "    .dataframe tbody tr th:only-of-type {\n",
       "        vertical-align: middle;\n",
       "    }\n",
       "\n",
       "    .dataframe tbody tr th {\n",
       "        vertical-align: top;\n",
       "    }\n",
       "\n",
       "    .dataframe thead th {\n",
       "        text-align: right;\n",
       "    }\n",
       "</style>\n",
       "<table border=\"1\" class=\"dataframe\">\n",
       "  <thead>\n",
       "    <tr style=\"text-align: right;\">\n",
       "      <th></th>\n",
       "      <th>mark</th>\n",
       "      <th>model</th>\n",
       "      <th>year</th>\n",
       "      <th>mileage</th>\n",
       "      <th>vol_engine</th>\n",
       "      <th>fuel</th>\n",
       "      <th>city</th>\n",
       "    </tr>\n",
       "  </thead>\n",
       "  <tbody>\n",
       "    <tr>\n",
       "      <th>14631</th>\n",
       "      <td>audi</td>\n",
       "      <td>a4</td>\n",
       "      <td>2002</td>\n",
       "      <td>240000</td>\n",
       "      <td>1781</td>\n",
       "      <td>Gasoline</td>\n",
       "      <td>Elbląg</td>\n",
       "    </tr>\n",
       "    <tr>\n",
       "      <th>102924</th>\n",
       "      <td>nissan</td>\n",
       "      <td>juke</td>\n",
       "      <td>2014</td>\n",
       "      <td>166000</td>\n",
       "      <td>1598</td>\n",
       "      <td>Gasoline</td>\n",
       "      <td>Gliwice</td>\n",
       "    </tr>\n",
       "    <tr>\n",
       "      <th>100681</th>\n",
       "      <td>mini</td>\n",
       "      <td>cooper</td>\n",
       "      <td>2021</td>\n",
       "      <td>1</td>\n",
       "      <td>1499</td>\n",
       "      <td>Gasoline</td>\n",
       "      <td>Kraków</td>\n",
       "    </tr>\n",
       "    <tr>\n",
       "      <th>90467</th>\n",
       "      <td>hyundai</td>\n",
       "      <td>i30</td>\n",
       "      <td>2014</td>\n",
       "      <td>70454</td>\n",
       "      <td>1396</td>\n",
       "      <td>Gasoline</td>\n",
       "      <td>Kraków</td>\n",
       "    </tr>\n",
       "    <tr>\n",
       "      <th>39521</th>\n",
       "      <td>volkswagen</td>\n",
       "      <td>multivan</td>\n",
       "      <td>2022</td>\n",
       "      <td>0</td>\n",
       "      <td>0</td>\n",
       "      <td>Gasoline</td>\n",
       "      <td>Warszawa</td>\n",
       "    </tr>\n",
       "    <tr>\n",
       "      <th>...</th>\n",
       "      <td>...</td>\n",
       "      <td>...</td>\n",
       "      <td>...</td>\n",
       "      <td>...</td>\n",
       "      <td>...</td>\n",
       "      <td>...</td>\n",
       "      <td>...</td>\n",
       "    </tr>\n",
       "    <tr>\n",
       "      <th>116549</th>\n",
       "      <td>volvo</td>\n",
       "      <td>xc-60</td>\n",
       "      <td>2017</td>\n",
       "      <td>146000</td>\n",
       "      <td>1969</td>\n",
       "      <td>Gasoline</td>\n",
       "      <td>Bochnia</td>\n",
       "    </tr>\n",
       "    <tr>\n",
       "      <th>21358</th>\n",
       "      <td>audi</td>\n",
       "      <td>q3</td>\n",
       "      <td>2021</td>\n",
       "      <td>5</td>\n",
       "      <td>1984</td>\n",
       "      <td>Gasoline</td>\n",
       "      <td>Gdańsk</td>\n",
       "    </tr>\n",
       "    <tr>\n",
       "      <th>104987</th>\n",
       "      <td>nissan</td>\n",
       "      <td>qashqai</td>\n",
       "      <td>2018</td>\n",
       "      <td>39800</td>\n",
       "      <td>1197</td>\n",
       "      <td>Gasoline</td>\n",
       "      <td>Rzgów</td>\n",
       "    </tr>\n",
       "    <tr>\n",
       "      <th>6054</th>\n",
       "      <td>opel</td>\n",
       "      <td>insignia</td>\n",
       "      <td>2014</td>\n",
       "      <td>194000</td>\n",
       "      <td>1956</td>\n",
       "      <td>Diesel</td>\n",
       "      <td>Rzeszów</td>\n",
       "    </tr>\n",
       "    <tr>\n",
       "      <th>113071</th>\n",
       "      <td>seat</td>\n",
       "      <td>leon</td>\n",
       "      <td>2018</td>\n",
       "      <td>39500</td>\n",
       "      <td>1395</td>\n",
       "      <td>Gasoline</td>\n",
       "      <td>Katowice</td>\n",
       "    </tr>\n",
       "  </tbody>\n",
       "</table>\n",
       "<p>82548 rows × 7 columns</p>\n",
       "</div>"
      ],
      "text/plain": [
       "              mark     model  year  mileage  vol_engine      fuel      city\n",
       "14631         audi        a4  2002   240000        1781  Gasoline    Elbląg\n",
       "102924      nissan      juke  2014   166000        1598  Gasoline   Gliwice\n",
       "100681        mini    cooper  2021        1        1499  Gasoline    Kraków\n",
       "90467      hyundai       i30  2014    70454        1396  Gasoline    Kraków\n",
       "39521   volkswagen  multivan  2022        0           0  Gasoline  Warszawa\n",
       "...            ...       ...   ...      ...         ...       ...       ...\n",
       "116549       volvo     xc-60  2017   146000        1969  Gasoline   Bochnia\n",
       "21358         audi        q3  2021        5        1984  Gasoline    Gdańsk\n",
       "104987      nissan   qashqai  2018    39800        1197  Gasoline     Rzgów\n",
       "6054          opel  insignia  2014   194000        1956    Diesel   Rzeszów\n",
       "113071        seat      leon  2018    39500        1395  Gasoline  Katowice\n",
       "\n",
       "[82548 rows x 7 columns]"
      ]
     },
     "execution_count": 59,
     "metadata": {},
     "output_type": "execute_result"
    }
   ],
   "source": [
    "X_train"
   ]
  },
  {
   "cell_type": "code",
   "execution_count": 60,
   "metadata": {},
   "outputs": [],
   "source": [
    "from sklearn.linear_model import LinearRegression\n",
    "from sklearn.metrics import r2_score\n",
    "from sklearn.preprocessing import OneHotEncoder"
   ]
  },
  {
   "cell_type": "code",
   "execution_count": 61,
   "metadata": {},
   "outputs": [
    {
     "data": {
      "text/html": [
       "<style>#sk-container-id-4 {color: black;}#sk-container-id-4 pre{padding: 0;}#sk-container-id-4 div.sk-toggleable {background-color: white;}#sk-container-id-4 label.sk-toggleable__label {cursor: pointer;display: block;width: 100%;margin-bottom: 0;padding: 0.3em;box-sizing: border-box;text-align: center;}#sk-container-id-4 label.sk-toggleable__label-arrow:before {content: \"▸\";float: left;margin-right: 0.25em;color: #696969;}#sk-container-id-4 label.sk-toggleable__label-arrow:hover:before {color: black;}#sk-container-id-4 div.sk-estimator:hover label.sk-toggleable__label-arrow:before {color: black;}#sk-container-id-4 div.sk-toggleable__content {max-height: 0;max-width: 0;overflow: hidden;text-align: left;background-color: #f0f8ff;}#sk-container-id-4 div.sk-toggleable__content pre {margin: 0.2em;color: black;border-radius: 0.25em;background-color: #f0f8ff;}#sk-container-id-4 input.sk-toggleable__control:checked~div.sk-toggleable__content {max-height: 200px;max-width: 100%;overflow: auto;}#sk-container-id-4 input.sk-toggleable__control:checked~label.sk-toggleable__label-arrow:before {content: \"▾\";}#sk-container-id-4 div.sk-estimator input.sk-toggleable__control:checked~label.sk-toggleable__label {background-color: #d4ebff;}#sk-container-id-4 div.sk-label input.sk-toggleable__control:checked~label.sk-toggleable__label {background-color: #d4ebff;}#sk-container-id-4 input.sk-hidden--visually {border: 0;clip: rect(1px 1px 1px 1px);clip: rect(1px, 1px, 1px, 1px);height: 1px;margin: -1px;overflow: hidden;padding: 0;position: absolute;width: 1px;}#sk-container-id-4 div.sk-estimator {font-family: monospace;background-color: #f0f8ff;border: 1px dotted black;border-radius: 0.25em;box-sizing: border-box;margin-bottom: 0.5em;}#sk-container-id-4 div.sk-estimator:hover {background-color: #d4ebff;}#sk-container-id-4 div.sk-parallel-item::after {content: \"\";width: 100%;border-bottom: 1px solid gray;flex-grow: 1;}#sk-container-id-4 div.sk-label:hover label.sk-toggleable__label {background-color: #d4ebff;}#sk-container-id-4 div.sk-serial::before {content: \"\";position: absolute;border-left: 1px solid gray;box-sizing: border-box;top: 0;bottom: 0;left: 50%;z-index: 0;}#sk-container-id-4 div.sk-serial {display: flex;flex-direction: column;align-items: center;background-color: white;padding-right: 0.2em;padding-left: 0.2em;position: relative;}#sk-container-id-4 div.sk-item {position: relative;z-index: 1;}#sk-container-id-4 div.sk-parallel {display: flex;align-items: stretch;justify-content: center;background-color: white;position: relative;}#sk-container-id-4 div.sk-item::before, #sk-container-id-4 div.sk-parallel-item::before {content: \"\";position: absolute;border-left: 1px solid gray;box-sizing: border-box;top: 0;bottom: 0;left: 50%;z-index: -1;}#sk-container-id-4 div.sk-parallel-item {display: flex;flex-direction: column;z-index: 1;position: relative;background-color: white;}#sk-container-id-4 div.sk-parallel-item:first-child::after {align-self: flex-end;width: 50%;}#sk-container-id-4 div.sk-parallel-item:last-child::after {align-self: flex-start;width: 50%;}#sk-container-id-4 div.sk-parallel-item:only-child::after {width: 0;}#sk-container-id-4 div.sk-dashed-wrapped {border: 1px dashed gray;margin: 0 0.4em 0.5em 0.4em;box-sizing: border-box;padding-bottom: 0.4em;background-color: white;}#sk-container-id-4 div.sk-label label {font-family: monospace;font-weight: bold;display: inline-block;line-height: 1.2em;}#sk-container-id-4 div.sk-label-container {text-align: center;}#sk-container-id-4 div.sk-container {/* jupyter's `normalize.less` sets `[hidden] { display: none; }` but bootstrap.min.css set `[hidden] { display: none !important; }` so we also need the `!important` here to be able to override the default hidden behavior on the sphinx rendered scikit-learn.org. See: https://github.com/scikit-learn/scikit-learn/issues/21755 */display: inline-block !important;position: relative;}#sk-container-id-4 div.sk-text-repr-fallback {display: none;}</style><div id=\"sk-container-id-4\" class=\"sk-top-container\"><div class=\"sk-text-repr-fallback\"><pre>OneHotEncoder()</pre><b>In a Jupyter environment, please rerun this cell to show the HTML representation or trust the notebook. <br />On GitHub, the HTML representation is unable to render, please try loading this page with nbviewer.org.</b></div><div class=\"sk-container\" hidden><div class=\"sk-item\"><div class=\"sk-estimator sk-toggleable\"><input class=\"sk-toggleable__control sk-hidden--visually\" id=\"sk-estimator-id-10\" type=\"checkbox\" checked><label for=\"sk-estimator-id-10\" class=\"sk-toggleable__label sk-toggleable__label-arrow\">OneHotEncoder</label><div class=\"sk-toggleable__content\"><pre>OneHotEncoder()</pre></div></div></div></div></div>"
      ],
      "text/plain": [
       "OneHotEncoder()"
      ]
     },
     "execution_count": 61,
     "metadata": {},
     "output_type": "execute_result"
    }
   ],
   "source": [
    "ohe = OneHotEncoder()\n",
    "ohe.fit(X[['mark','model','fuel','city']])"
   ]
  },
  {
   "cell_type": "code",
   "execution_count": 63,
   "metadata": {},
   "outputs": [],
   "source": [
    "from sklearn.compose import make_column_transformer\n",
    "from sklearn.pipeline import make_pipeline"
   ]
  },
  {
   "cell_type": "code",
   "execution_count": 64,
   "metadata": {},
   "outputs": [],
   "source": [
    "columns_trans = make_column_transformer((OneHotEncoder(categories=ohe.categories_), ['mark','model','fuel','city']), remainder='passthrough')"
   ]
  },
  {
   "cell_type": "code",
   "execution_count": 66,
   "metadata": {},
   "outputs": [],
   "source": [
    "lr = LinearRegression()"
   ]
  },
  {
   "cell_type": "code",
   "execution_count": 69,
   "metadata": {},
   "outputs": [],
   "source": [
    "pipe = make_pipeline(columns_trans, lr)"
   ]
  },
  {
   "cell_type": "code",
   "execution_count": 70,
   "metadata": {},
   "outputs": [
    {
     "data": {
      "text/plain": [
       "[array(['alfa-romeo', 'audi', 'bmw', 'chevrolet', 'citroen', 'fiat',\n",
       "        'ford', 'honda', 'hyundai', 'kia', 'mazda', 'mercedes-benz',\n",
       "        'mini', 'mitsubishi', 'nissan', 'opel', 'peugeot', 'renault',\n",
       "        'seat', 'skoda', 'toyota', 'volkswagen', 'volvo'], dtype=object),\n",
       " array(['147', '159', '2', '2008', '206', '207', '208', '3', '3008', '307',\n",
       "        '308', '3gt', '407', '5', '500', '5008', '500l', '500x', '508',\n",
       "        '5gt', '6', '80', 'a-klasa', 'a1', 'a2', 'a3', 'a4', 'a4-allroad',\n",
       "        'a5', 'a6', 'a6-allroad', 'a7', 'a8', 'accord', 'adam', 'agila',\n",
       "        'alhambra', 'almera', 'altea', 'altea-xl', 'amarok', 'amg-gt',\n",
       "        'ampera', 'antara', 'arkana', 'arona', 'arteon', 'astra', 'asx',\n",
       "        'ateca', 'auris', 'avensis', 'aveo', 'aygo', 'b-klasa', 'b-max',\n",
       "        'beetle', 'berlingo', 'bravo', 'c-hr', 'c-klasa', 'c-max',\n",
       "        'c3-aircross', 'c3-picasso', 'c30', 'c4-cactus',\n",
       "        'c4-grand-picasso', 'c4-picasso', 'c5', 'c5-aircross', 'caddy',\n",
       "        'california', 'camaro', 'camry', 'captur', 'caravelle', 'carens',\n",
       "        'cc', 'ceed', 'citan', 'citigo', 'civic', 'cl-klasa', 'cla-klasa',\n",
       "        'clio', 'clk-klasa', 'cls-klasa', 'clubman', 'colt', 'combo',\n",
       "        'cooper', 'cooper-s', 'corolla', 'corolla-verso', 'corsa',\n",
       "        'countryman', 'cr-v', 'crafter', 'crossland-x', 'cruze', 'cx-3',\n",
       "        'cx-30', 'cx-5', 'cx-7', 'cx-9', 'doblo', 'ds3', 'ds4', 'ds5',\n",
       "        'e-klasa', 'e-tron', 'eclipse-cross', 'ecosport', 'edge',\n",
       "        'elantra', 'enyaq', 'eos', 'escape', 'espace', 'exeo', 'expert',\n",
       "        'explorer', 'f150', 'fabia', 'fiesta', 'fluence', 'focus',\n",
       "        'focus-c-max', 'fox', 'freemont', 'frontera', 'fusion', 'g-klasa',\n",
       "        'galaxy', 'giulia', 'giulietta', 'gl-klasa', 'gla-klasa',\n",
       "        'glb-klasa', 'glc-klasa', 'gle-klasa', 'glk-klasa', 'gls-klasa',\n",
       "        'golf', 'golf-plus', 'golf-sportsvan', 'grand-c-max',\n",
       "        'grand-espace', 'grand-scenic', 'grande-punto', 'grandland-x',\n",
       "        'hr-v', 'i10', 'i20', 'i3', 'i30', 'i40', 'ibiza', 'id4',\n",
       "        'insignia', 'ix20', 'ix35', 'jazz', 'jetta', 'juke', 'ka',\n",
       "        'kadjar', 'kamiq', 'kangoo', 'karl', 'karoq', 'kodiaq', 'koleos',\n",
       "        'kona', 'kuga', 'laguna', 'lancer', 'land-cruiser', 'leaf', 'leon',\n",
       "        'lupo', 'm-klasa', 'm2', 'm3', 'm4', 'm5', 'm8', 'megane',\n",
       "        'meriva', 'micra', 'mito', 'modus', 'mokka', 'mondeo', 'multivan',\n",
       "        'murano', 'mustang', 'mustang-mach-e', 'mx-5', 'new-beetle',\n",
       "        'note', 'octavia', 'omega', 'one', 'optima', 'orlando',\n",
       "        'outlander', 'panda', 'partner', 'passat', 'passat-cc', 'patrol',\n",
       "        'phaeton', 'picanto', 'polo', 'primera', 'prius', 'pro-ceed',\n",
       "        'proace-verso', 'puma', 'punto', 'punto-evo', 'q2', 'q3',\n",
       "        'q4-sportback', 'q5', 'q7', 'q8', 'qashqai', 'qashqai-2',\n",
       "        'r-klasa', 'ranger', 'rapid', 'rav4', 'roomster', 'rs-q3', 'rs3',\n",
       "        'rs5', 'rs6', 's-klasa', 's-max', 's3', 's40', 's5', 's60', 's8',\n",
       "        's80', 'santa-fe', 'scala', 'scenic', 'scirocco', 'seria-1',\n",
       "        'seria-2', 'seria-3', 'seria-4', 'seria-5', 'seria-6', 'seria-7',\n",
       "        'seria-8', 'sharan', 'sienna', 'signum', 'sl', 'slk-klasa',\n",
       "        'sorento', 'soul', 'space-star', 'sportage', 'sprinter', 'sq5',\n",
       "        'stinger', 'stonic', 'superb', 't-cross', 't-roc', 'talisman',\n",
       "        'thalia', 'tigra', 'tiguan', 'tiguan-allspace', 'tipo', 'toledo',\n",
       "        'touareg', 'touran', 'tourneo-connect', 'tourneo-courier',\n",
       "        'tourneo-custom', 'trafic', 'transit', 'transit-connect',\n",
       "        'transit-custom', 'transporter', 'tt', 'tucson', 'twingo', 'up',\n",
       "        'v-klasa', 'v40', 'v50', 'v60', 'v70', 'v90', 'vectra', 'venga',\n",
       "        'verso', 'viano', 'vito', 'vivaro', 'x-trail', 'x1', 'x2', 'x3',\n",
       "        'x4', 'x5', 'x5-m', 'x6', 'x6-m', 'x7', 'xc-40', 'xc-60', 'xc-70',\n",
       "        'xc-90', 'xceed', 'xsara-picasso', 'yaris', 'yeti', 'zafira',\n",
       "        'zoe'], dtype=object),\n",
       " array(['CNG', 'Diesel', 'Electric', 'Gasoline', 'Hybrid', 'LPG'],\n",
       "       dtype=object),\n",
       " array(['Adamowizna', 'Adamowo', 'Adamusy', ..., 'Żółwin', 'Żędowice',\n",
       "        'Żłobin'], dtype=object)]"
      ]
     },
     "execution_count": 70,
     "metadata": {},
     "output_type": "execute_result"
    }
   ],
   "source": [
    "ohe.categories_"
   ]
  },
  {
   "cell_type": "code",
   "execution_count": 79,
   "metadata": {},
   "outputs": [
    {
     "data": {
      "text/html": [
       "<div>\n",
       "<style scoped>\n",
       "    .dataframe tbody tr th:only-of-type {\n",
       "        vertical-align: middle;\n",
       "    }\n",
       "\n",
       "    .dataframe tbody tr th {\n",
       "        vertical-align: top;\n",
       "    }\n",
       "\n",
       "    .dataframe thead th {\n",
       "        text-align: right;\n",
       "    }\n",
       "</style>\n",
       "<table border=\"1\" class=\"dataframe\">\n",
       "  <thead>\n",
       "    <tr style=\"text-align: right;\">\n",
       "      <th></th>\n",
       "      <th>mark</th>\n",
       "      <th>model</th>\n",
       "      <th>year</th>\n",
       "      <th>mileage</th>\n",
       "      <th>vol_engine</th>\n",
       "      <th>fuel</th>\n",
       "      <th>city</th>\n",
       "    </tr>\n",
       "  </thead>\n",
       "  <tbody>\n",
       "    <tr>\n",
       "      <th>14631</th>\n",
       "      <td>audi</td>\n",
       "      <td>a4</td>\n",
       "      <td>2002</td>\n",
       "      <td>240000</td>\n",
       "      <td>1781</td>\n",
       "      <td>Gasoline</td>\n",
       "      <td>Elbląg</td>\n",
       "    </tr>\n",
       "    <tr>\n",
       "      <th>102924</th>\n",
       "      <td>nissan</td>\n",
       "      <td>juke</td>\n",
       "      <td>2014</td>\n",
       "      <td>166000</td>\n",
       "      <td>1598</td>\n",
       "      <td>Gasoline</td>\n",
       "      <td>Gliwice</td>\n",
       "    </tr>\n",
       "    <tr>\n",
       "      <th>100681</th>\n",
       "      <td>mini</td>\n",
       "      <td>cooper</td>\n",
       "      <td>2021</td>\n",
       "      <td>1</td>\n",
       "      <td>1499</td>\n",
       "      <td>Gasoline</td>\n",
       "      <td>Kraków</td>\n",
       "    </tr>\n",
       "    <tr>\n",
       "      <th>90467</th>\n",
       "      <td>hyundai</td>\n",
       "      <td>i30</td>\n",
       "      <td>2014</td>\n",
       "      <td>70454</td>\n",
       "      <td>1396</td>\n",
       "      <td>Gasoline</td>\n",
       "      <td>Kraków</td>\n",
       "    </tr>\n",
       "    <tr>\n",
       "      <th>39521</th>\n",
       "      <td>volkswagen</td>\n",
       "      <td>multivan</td>\n",
       "      <td>2022</td>\n",
       "      <td>0</td>\n",
       "      <td>0</td>\n",
       "      <td>Gasoline</td>\n",
       "      <td>Warszawa</td>\n",
       "    </tr>\n",
       "    <tr>\n",
       "      <th>...</th>\n",
       "      <td>...</td>\n",
       "      <td>...</td>\n",
       "      <td>...</td>\n",
       "      <td>...</td>\n",
       "      <td>...</td>\n",
       "      <td>...</td>\n",
       "      <td>...</td>\n",
       "    </tr>\n",
       "    <tr>\n",
       "      <th>116549</th>\n",
       "      <td>volvo</td>\n",
       "      <td>xc-60</td>\n",
       "      <td>2017</td>\n",
       "      <td>146000</td>\n",
       "      <td>1969</td>\n",
       "      <td>Gasoline</td>\n",
       "      <td>Bochnia</td>\n",
       "    </tr>\n",
       "    <tr>\n",
       "      <th>21358</th>\n",
       "      <td>audi</td>\n",
       "      <td>q3</td>\n",
       "      <td>2021</td>\n",
       "      <td>5</td>\n",
       "      <td>1984</td>\n",
       "      <td>Gasoline</td>\n",
       "      <td>Gdańsk</td>\n",
       "    </tr>\n",
       "    <tr>\n",
       "      <th>104987</th>\n",
       "      <td>nissan</td>\n",
       "      <td>qashqai</td>\n",
       "      <td>2018</td>\n",
       "      <td>39800</td>\n",
       "      <td>1197</td>\n",
       "      <td>Gasoline</td>\n",
       "      <td>Rzgów</td>\n",
       "    </tr>\n",
       "    <tr>\n",
       "      <th>6054</th>\n",
       "      <td>opel</td>\n",
       "      <td>insignia</td>\n",
       "      <td>2014</td>\n",
       "      <td>194000</td>\n",
       "      <td>1956</td>\n",
       "      <td>Diesel</td>\n",
       "      <td>Rzeszów</td>\n",
       "    </tr>\n",
       "    <tr>\n",
       "      <th>113071</th>\n",
       "      <td>seat</td>\n",
       "      <td>leon</td>\n",
       "      <td>2018</td>\n",
       "      <td>39500</td>\n",
       "      <td>1395</td>\n",
       "      <td>Gasoline</td>\n",
       "      <td>Katowice</td>\n",
       "    </tr>\n",
       "  </tbody>\n",
       "</table>\n",
       "<p>82548 rows × 7 columns</p>\n",
       "</div>"
      ],
      "text/plain": [
       "              mark     model  year  mileage  vol_engine      fuel      city\n",
       "14631         audi        a4  2002   240000        1781  Gasoline    Elbląg\n",
       "102924      nissan      juke  2014   166000        1598  Gasoline   Gliwice\n",
       "100681        mini    cooper  2021        1        1499  Gasoline    Kraków\n",
       "90467      hyundai       i30  2014    70454        1396  Gasoline    Kraków\n",
       "39521   volkswagen  multivan  2022        0           0  Gasoline  Warszawa\n",
       "...            ...       ...   ...      ...         ...       ...       ...\n",
       "116549       volvo     xc-60  2017   146000        1969  Gasoline   Bochnia\n",
       "21358         audi        q3  2021        5        1984  Gasoline    Gdańsk\n",
       "104987      nissan   qashqai  2018    39800        1197  Gasoline     Rzgów\n",
       "6054          opel  insignia  2014   194000        1956    Diesel   Rzeszów\n",
       "113071        seat      leon  2018    39500        1395  Gasoline  Katowice\n",
       "\n",
       "[82548 rows x 7 columns]"
      ]
     },
     "execution_count": 79,
     "metadata": {},
     "output_type": "execute_result"
    }
   ],
   "source": [
    "X_train"
   ]
  },
  {
   "cell_type": "code",
   "execution_count": 80,
   "metadata": {},
   "outputs": [
    {
     "data": {
      "text/html": [
       "<style>#sk-container-id-7 {color: black;}#sk-container-id-7 pre{padding: 0;}#sk-container-id-7 div.sk-toggleable {background-color: white;}#sk-container-id-7 label.sk-toggleable__label {cursor: pointer;display: block;width: 100%;margin-bottom: 0;padding: 0.3em;box-sizing: border-box;text-align: center;}#sk-container-id-7 label.sk-toggleable__label-arrow:before {content: \"▸\";float: left;margin-right: 0.25em;color: #696969;}#sk-container-id-7 label.sk-toggleable__label-arrow:hover:before {color: black;}#sk-container-id-7 div.sk-estimator:hover label.sk-toggleable__label-arrow:before {color: black;}#sk-container-id-7 div.sk-toggleable__content {max-height: 0;max-width: 0;overflow: hidden;text-align: left;background-color: #f0f8ff;}#sk-container-id-7 div.sk-toggleable__content pre {margin: 0.2em;color: black;border-radius: 0.25em;background-color: #f0f8ff;}#sk-container-id-7 input.sk-toggleable__control:checked~div.sk-toggleable__content {max-height: 200px;max-width: 100%;overflow: auto;}#sk-container-id-7 input.sk-toggleable__control:checked~label.sk-toggleable__label-arrow:before {content: \"▾\";}#sk-container-id-7 div.sk-estimator input.sk-toggleable__control:checked~label.sk-toggleable__label {background-color: #d4ebff;}#sk-container-id-7 div.sk-label input.sk-toggleable__control:checked~label.sk-toggleable__label {background-color: #d4ebff;}#sk-container-id-7 input.sk-hidden--visually {border: 0;clip: rect(1px 1px 1px 1px);clip: rect(1px, 1px, 1px, 1px);height: 1px;margin: -1px;overflow: hidden;padding: 0;position: absolute;width: 1px;}#sk-container-id-7 div.sk-estimator {font-family: monospace;background-color: #f0f8ff;border: 1px dotted black;border-radius: 0.25em;box-sizing: border-box;margin-bottom: 0.5em;}#sk-container-id-7 div.sk-estimator:hover {background-color: #d4ebff;}#sk-container-id-7 div.sk-parallel-item::after {content: \"\";width: 100%;border-bottom: 1px solid gray;flex-grow: 1;}#sk-container-id-7 div.sk-label:hover label.sk-toggleable__label {background-color: #d4ebff;}#sk-container-id-7 div.sk-serial::before {content: \"\";position: absolute;border-left: 1px solid gray;box-sizing: border-box;top: 0;bottom: 0;left: 50%;z-index: 0;}#sk-container-id-7 div.sk-serial {display: flex;flex-direction: column;align-items: center;background-color: white;padding-right: 0.2em;padding-left: 0.2em;position: relative;}#sk-container-id-7 div.sk-item {position: relative;z-index: 1;}#sk-container-id-7 div.sk-parallel {display: flex;align-items: stretch;justify-content: center;background-color: white;position: relative;}#sk-container-id-7 div.sk-item::before, #sk-container-id-7 div.sk-parallel-item::before {content: \"\";position: absolute;border-left: 1px solid gray;box-sizing: border-box;top: 0;bottom: 0;left: 50%;z-index: -1;}#sk-container-id-7 div.sk-parallel-item {display: flex;flex-direction: column;z-index: 1;position: relative;background-color: white;}#sk-container-id-7 div.sk-parallel-item:first-child::after {align-self: flex-end;width: 50%;}#sk-container-id-7 div.sk-parallel-item:last-child::after {align-self: flex-start;width: 50%;}#sk-container-id-7 div.sk-parallel-item:only-child::after {width: 0;}#sk-container-id-7 div.sk-dashed-wrapped {border: 1px dashed gray;margin: 0 0.4em 0.5em 0.4em;box-sizing: border-box;padding-bottom: 0.4em;background-color: white;}#sk-container-id-7 div.sk-label label {font-family: monospace;font-weight: bold;display: inline-block;line-height: 1.2em;}#sk-container-id-7 div.sk-label-container {text-align: center;}#sk-container-id-7 div.sk-container {/* jupyter's `normalize.less` sets `[hidden] { display: none; }` but bootstrap.min.css set `[hidden] { display: none !important; }` so we also need the `!important` here to be able to override the default hidden behavior on the sphinx rendered scikit-learn.org. See: https://github.com/scikit-learn/scikit-learn/issues/21755 */display: inline-block !important;position: relative;}#sk-container-id-7 div.sk-text-repr-fallback {display: none;}</style><div id=\"sk-container-id-7\" class=\"sk-top-container\"><div class=\"sk-text-repr-fallback\"><pre>Pipeline(steps=[(&#x27;columntransformer&#x27;,\n",
       "                 ColumnTransformer(remainder=&#x27;passthrough&#x27;,\n",
       "                                   transformers=[(&#x27;onehotencoder&#x27;,\n",
       "                                                  OneHotEncoder(categories=[array([&#x27;alfa-romeo&#x27;, &#x27;audi&#x27;, &#x27;bmw&#x27;, &#x27;chevrolet&#x27;, &#x27;citroen&#x27;, &#x27;fiat&#x27;,\n",
       "       &#x27;ford&#x27;, &#x27;honda&#x27;, &#x27;hyundai&#x27;, &#x27;kia&#x27;, &#x27;mazda&#x27;, &#x27;mercedes-benz&#x27;,\n",
       "       &#x27;mini&#x27;, &#x27;mitsubishi&#x27;, &#x27;nissan&#x27;, &#x27;opel&#x27;, &#x27;peugeot&#x27;, &#x27;renault&#x27;,\n",
       "       &#x27;seat&#x27;, &#x27;skoda&#x27;, &#x27;toyota&#x27;, &#x27;volkswagen&#x27;, &#x27;vol...\n",
       "       &#x27;x4&#x27;, &#x27;x5&#x27;, &#x27;x5-m&#x27;, &#x27;x6&#x27;, &#x27;x6-m&#x27;, &#x27;x7&#x27;, &#x27;xc-40&#x27;, &#x27;xc-60&#x27;, &#x27;xc-70&#x27;,\n",
       "       &#x27;xc-90&#x27;, &#x27;xceed&#x27;, &#x27;xsara-picasso&#x27;, &#x27;yaris&#x27;, &#x27;yeti&#x27;, &#x27;zafira&#x27;,\n",
       "       &#x27;zoe&#x27;], dtype=object),\n",
       "                                                                            array([&#x27;CNG&#x27;, &#x27;Diesel&#x27;, &#x27;Electric&#x27;, &#x27;Gasoline&#x27;, &#x27;Hybrid&#x27;, &#x27;LPG&#x27;],\n",
       "      dtype=object),\n",
       "                                                                            array([&#x27;Adamowizna&#x27;, &#x27;Adamowo&#x27;, &#x27;Adamusy&#x27;, ..., &#x27;Żółwin&#x27;, &#x27;Żędowice&#x27;,\n",
       "       &#x27;Żłobin&#x27;], dtype=object)]),\n",
       "                                                  [&#x27;mark&#x27;, &#x27;model&#x27;, &#x27;fuel&#x27;,\n",
       "                                                   &#x27;city&#x27;])])),\n",
       "                (&#x27;linearregression&#x27;, LinearRegression())])</pre><b>In a Jupyter environment, please rerun this cell to show the HTML representation or trust the notebook. <br />On GitHub, the HTML representation is unable to render, please try loading this page with nbviewer.org.</b></div><div class=\"sk-container\" hidden><div class=\"sk-item sk-dashed-wrapped\"><div class=\"sk-label-container\"><div class=\"sk-label sk-toggleable\"><input class=\"sk-toggleable__control sk-hidden--visually\" id=\"sk-estimator-id-25\" type=\"checkbox\" ><label for=\"sk-estimator-id-25\" class=\"sk-toggleable__label sk-toggleable__label-arrow\">Pipeline</label><div class=\"sk-toggleable__content\"><pre>Pipeline(steps=[(&#x27;columntransformer&#x27;,\n",
       "                 ColumnTransformer(remainder=&#x27;passthrough&#x27;,\n",
       "                                   transformers=[(&#x27;onehotencoder&#x27;,\n",
       "                                                  OneHotEncoder(categories=[array([&#x27;alfa-romeo&#x27;, &#x27;audi&#x27;, &#x27;bmw&#x27;, &#x27;chevrolet&#x27;, &#x27;citroen&#x27;, &#x27;fiat&#x27;,\n",
       "       &#x27;ford&#x27;, &#x27;honda&#x27;, &#x27;hyundai&#x27;, &#x27;kia&#x27;, &#x27;mazda&#x27;, &#x27;mercedes-benz&#x27;,\n",
       "       &#x27;mini&#x27;, &#x27;mitsubishi&#x27;, &#x27;nissan&#x27;, &#x27;opel&#x27;, &#x27;peugeot&#x27;, &#x27;renault&#x27;,\n",
       "       &#x27;seat&#x27;, &#x27;skoda&#x27;, &#x27;toyota&#x27;, &#x27;volkswagen&#x27;, &#x27;vol...\n",
       "       &#x27;x4&#x27;, &#x27;x5&#x27;, &#x27;x5-m&#x27;, &#x27;x6&#x27;, &#x27;x6-m&#x27;, &#x27;x7&#x27;, &#x27;xc-40&#x27;, &#x27;xc-60&#x27;, &#x27;xc-70&#x27;,\n",
       "       &#x27;xc-90&#x27;, &#x27;xceed&#x27;, &#x27;xsara-picasso&#x27;, &#x27;yaris&#x27;, &#x27;yeti&#x27;, &#x27;zafira&#x27;,\n",
       "       &#x27;zoe&#x27;], dtype=object),\n",
       "                                                                            array([&#x27;CNG&#x27;, &#x27;Diesel&#x27;, &#x27;Electric&#x27;, &#x27;Gasoline&#x27;, &#x27;Hybrid&#x27;, &#x27;LPG&#x27;],\n",
       "      dtype=object),\n",
       "                                                                            array([&#x27;Adamowizna&#x27;, &#x27;Adamowo&#x27;, &#x27;Adamusy&#x27;, ..., &#x27;Żółwin&#x27;, &#x27;Żędowice&#x27;,\n",
       "       &#x27;Żłobin&#x27;], dtype=object)]),\n",
       "                                                  [&#x27;mark&#x27;, &#x27;model&#x27;, &#x27;fuel&#x27;,\n",
       "                                                   &#x27;city&#x27;])])),\n",
       "                (&#x27;linearregression&#x27;, LinearRegression())])</pre></div></div></div><div class=\"sk-serial\"><div class=\"sk-item sk-dashed-wrapped\"><div class=\"sk-label-container\"><div class=\"sk-label sk-toggleable\"><input class=\"sk-toggleable__control sk-hidden--visually\" id=\"sk-estimator-id-26\" type=\"checkbox\" ><label for=\"sk-estimator-id-26\" class=\"sk-toggleable__label sk-toggleable__label-arrow\">columntransformer: ColumnTransformer</label><div class=\"sk-toggleable__content\"><pre>ColumnTransformer(remainder=&#x27;passthrough&#x27;,\n",
       "                  transformers=[(&#x27;onehotencoder&#x27;,\n",
       "                                 OneHotEncoder(categories=[array([&#x27;alfa-romeo&#x27;, &#x27;audi&#x27;, &#x27;bmw&#x27;, &#x27;chevrolet&#x27;, &#x27;citroen&#x27;, &#x27;fiat&#x27;,\n",
       "       &#x27;ford&#x27;, &#x27;honda&#x27;, &#x27;hyundai&#x27;, &#x27;kia&#x27;, &#x27;mazda&#x27;, &#x27;mercedes-benz&#x27;,\n",
       "       &#x27;mini&#x27;, &#x27;mitsubishi&#x27;, &#x27;nissan&#x27;, &#x27;opel&#x27;, &#x27;peugeot&#x27;, &#x27;renault&#x27;,\n",
       "       &#x27;seat&#x27;, &#x27;skoda&#x27;, &#x27;toyota&#x27;, &#x27;volkswagen&#x27;, &#x27;volvo&#x27;], dtype=object),\n",
       "                                                           array([&#x27;147&#x27;, &#x27;159&#x27;...\n",
       "       &#x27;verso&#x27;, &#x27;viano&#x27;, &#x27;vito&#x27;, &#x27;vivaro&#x27;, &#x27;x-trail&#x27;, &#x27;x1&#x27;, &#x27;x2&#x27;, &#x27;x3&#x27;,\n",
       "       &#x27;x4&#x27;, &#x27;x5&#x27;, &#x27;x5-m&#x27;, &#x27;x6&#x27;, &#x27;x6-m&#x27;, &#x27;x7&#x27;, &#x27;xc-40&#x27;, &#x27;xc-60&#x27;, &#x27;xc-70&#x27;,\n",
       "       &#x27;xc-90&#x27;, &#x27;xceed&#x27;, &#x27;xsara-picasso&#x27;, &#x27;yaris&#x27;, &#x27;yeti&#x27;, &#x27;zafira&#x27;,\n",
       "       &#x27;zoe&#x27;], dtype=object),\n",
       "                                                           array([&#x27;CNG&#x27;, &#x27;Diesel&#x27;, &#x27;Electric&#x27;, &#x27;Gasoline&#x27;, &#x27;Hybrid&#x27;, &#x27;LPG&#x27;],\n",
       "      dtype=object),\n",
       "                                                           array([&#x27;Adamowizna&#x27;, &#x27;Adamowo&#x27;, &#x27;Adamusy&#x27;, ..., &#x27;Żółwin&#x27;, &#x27;Żędowice&#x27;,\n",
       "       &#x27;Żłobin&#x27;], dtype=object)]),\n",
       "                                 [&#x27;mark&#x27;, &#x27;model&#x27;, &#x27;fuel&#x27;, &#x27;city&#x27;])])</pre></div></div></div><div class=\"sk-parallel\"><div class=\"sk-parallel-item\"><div class=\"sk-item\"><div class=\"sk-label-container\"><div class=\"sk-label sk-toggleable\"><input class=\"sk-toggleable__control sk-hidden--visually\" id=\"sk-estimator-id-27\" type=\"checkbox\" ><label for=\"sk-estimator-id-27\" class=\"sk-toggleable__label sk-toggleable__label-arrow\">onehotencoder</label><div class=\"sk-toggleable__content\"><pre>[&#x27;mark&#x27;, &#x27;model&#x27;, &#x27;fuel&#x27;, &#x27;city&#x27;]</pre></div></div></div><div class=\"sk-serial\"><div class=\"sk-item\"><div class=\"sk-estimator sk-toggleable\"><input class=\"sk-toggleable__control sk-hidden--visually\" id=\"sk-estimator-id-28\" type=\"checkbox\" ><label for=\"sk-estimator-id-28\" class=\"sk-toggleable__label sk-toggleable__label-arrow\">OneHotEncoder</label><div class=\"sk-toggleable__content\"><pre>OneHotEncoder(categories=[array([&#x27;alfa-romeo&#x27;, &#x27;audi&#x27;, &#x27;bmw&#x27;, &#x27;chevrolet&#x27;, &#x27;citroen&#x27;, &#x27;fiat&#x27;,\n",
       "       &#x27;ford&#x27;, &#x27;honda&#x27;, &#x27;hyundai&#x27;, &#x27;kia&#x27;, &#x27;mazda&#x27;, &#x27;mercedes-benz&#x27;,\n",
       "       &#x27;mini&#x27;, &#x27;mitsubishi&#x27;, &#x27;nissan&#x27;, &#x27;opel&#x27;, &#x27;peugeot&#x27;, &#x27;renault&#x27;,\n",
       "       &#x27;seat&#x27;, &#x27;skoda&#x27;, &#x27;toyota&#x27;, &#x27;volkswagen&#x27;, &#x27;volvo&#x27;], dtype=object),\n",
       "                          array([&#x27;147&#x27;, &#x27;159&#x27;, &#x27;2&#x27;, &#x27;2008&#x27;, &#x27;206&#x27;, &#x27;207&#x27;, &#x27;208&#x27;, &#x27;3&#x27;, &#x27;3008&#x27;, &#x27;307&#x27;,\n",
       "       &#x27;308&#x27;, &#x27;3gt&#x27;, &#x27;407&#x27;, &#x27;5&#x27;, &#x27;500...\n",
       "       &#x27;verso&#x27;, &#x27;viano&#x27;, &#x27;vito&#x27;, &#x27;vivaro&#x27;, &#x27;x-trail&#x27;, &#x27;x1&#x27;, &#x27;x2&#x27;, &#x27;x3&#x27;,\n",
       "       &#x27;x4&#x27;, &#x27;x5&#x27;, &#x27;x5-m&#x27;, &#x27;x6&#x27;, &#x27;x6-m&#x27;, &#x27;x7&#x27;, &#x27;xc-40&#x27;, &#x27;xc-60&#x27;, &#x27;xc-70&#x27;,\n",
       "       &#x27;xc-90&#x27;, &#x27;xceed&#x27;, &#x27;xsara-picasso&#x27;, &#x27;yaris&#x27;, &#x27;yeti&#x27;, &#x27;zafira&#x27;,\n",
       "       &#x27;zoe&#x27;], dtype=object),\n",
       "                          array([&#x27;CNG&#x27;, &#x27;Diesel&#x27;, &#x27;Electric&#x27;, &#x27;Gasoline&#x27;, &#x27;Hybrid&#x27;, &#x27;LPG&#x27;],\n",
       "      dtype=object),\n",
       "                          array([&#x27;Adamowizna&#x27;, &#x27;Adamowo&#x27;, &#x27;Adamusy&#x27;, ..., &#x27;Żółwin&#x27;, &#x27;Żędowice&#x27;,\n",
       "       &#x27;Żłobin&#x27;], dtype=object)])</pre></div></div></div></div></div></div><div class=\"sk-parallel-item\"><div class=\"sk-item\"><div class=\"sk-label-container\"><div class=\"sk-label sk-toggleable\"><input class=\"sk-toggleable__control sk-hidden--visually\" id=\"sk-estimator-id-29\" type=\"checkbox\" ><label for=\"sk-estimator-id-29\" class=\"sk-toggleable__label sk-toggleable__label-arrow\">remainder</label><div class=\"sk-toggleable__content\"><pre>[&#x27;year&#x27;, &#x27;mileage&#x27;, &#x27;vol_engine&#x27;]</pre></div></div></div><div class=\"sk-serial\"><div class=\"sk-item\"><div class=\"sk-estimator sk-toggleable\"><input class=\"sk-toggleable__control sk-hidden--visually\" id=\"sk-estimator-id-30\" type=\"checkbox\" ><label for=\"sk-estimator-id-30\" class=\"sk-toggleable__label sk-toggleable__label-arrow\">passthrough</label><div class=\"sk-toggleable__content\"><pre>passthrough</pre></div></div></div></div></div></div></div></div><div class=\"sk-item\"><div class=\"sk-estimator sk-toggleable\"><input class=\"sk-toggleable__control sk-hidden--visually\" id=\"sk-estimator-id-31\" type=\"checkbox\" ><label for=\"sk-estimator-id-31\" class=\"sk-toggleable__label sk-toggleable__label-arrow\">LinearRegression</label><div class=\"sk-toggleable__content\"><pre>LinearRegression()</pre></div></div></div></div></div></div></div>"
      ],
      "text/plain": [
       "Pipeline(steps=[('columntransformer',\n",
       "                 ColumnTransformer(remainder='passthrough',\n",
       "                                   transformers=[('onehotencoder',\n",
       "                                                  OneHotEncoder(categories=[array(['alfa-romeo', 'audi', 'bmw', 'chevrolet', 'citroen', 'fiat',\n",
       "       'ford', 'honda', 'hyundai', 'kia', 'mazda', 'mercedes-benz',\n",
       "       'mini', 'mitsubishi', 'nissan', 'opel', 'peugeot', 'renault',\n",
       "       'seat', 'skoda', 'toyota', 'volkswagen', 'vol...\n",
       "       'x4', 'x5', 'x5-m', 'x6', 'x6-m', 'x7', 'xc-40', 'xc-60', 'xc-70',\n",
       "       'xc-90', 'xceed', 'xsara-picasso', 'yaris', 'yeti', 'zafira',\n",
       "       'zoe'], dtype=object),\n",
       "                                                                            array(['CNG', 'Diesel', 'Electric', 'Gasoline', 'Hybrid', 'LPG'],\n",
       "      dtype=object),\n",
       "                                                                            array(['Adamowizna', 'Adamowo', 'Adamusy', ..., 'Żółwin', 'Żędowice',\n",
       "       'Żłobin'], dtype=object)]),\n",
       "                                                  ['mark', 'model', 'fuel',\n",
       "                                                   'city'])])),\n",
       "                ('linearregression', LinearRegression())])"
      ]
     },
     "execution_count": 80,
     "metadata": {},
     "output_type": "execute_result"
    }
   ],
   "source": [
    "pipe.fit(X_train, y_train)"
   ]
  },
  {
   "cell_type": "code",
   "execution_count": 76,
   "metadata": {},
   "outputs": [],
   "source": [
    "predicted = pipe.predict(x_test)"
   ]
  },
  {
   "cell_type": "code",
   "execution_count": 77,
   "metadata": {},
   "outputs": [
    {
     "name": "stdout",
     "output_type": "stream",
     "text": [
      "0.5642083239938013\n"
     ]
    }
   ],
   "source": [
    "print(r2_score(y_test, predicted))"
   ]
  },
  {
   "cell_type": "code",
   "execution_count": 35,
   "metadata": {},
   "outputs": [
    {
     "name": "stdout",
     "output_type": "stream",
     "text": [
      "0 0.5646403385269265\n",
      "1 0.5662287149896461\n",
      "2 0.5670922467229077\n",
      "3 0.5481756186375144\n",
      "4 0.5679545920984368\n",
      "5 0.5501135363455061\n",
      "6 0.5572668844503601\n",
      "7 0.559596193264756\n",
      "8 0.5564004036998471\n",
      "9 0.5664619751834983\n"
     ]
    }
   ],
   "source": [
    "r2_score_list = []\n",
    "for i in range(10):\n",
    "    X_train, x_test, y_train, y_test = train_test_split(X,y, test_size=0.3, random_state=i)\n",
    "    pipe.fit(X_train, y_train)\n",
    "    predicted = pipe.predict(x_test)\n",
    "    result = r2_score(y_test, predicted)\n",
    "    r2_score_list.append((result, i))\n",
    "\n",
    "    print(i,result)"
   ]
  },
  {
   "cell_type": "code",
   "execution_count": 36,
   "metadata": {},
   "outputs": [
    {
     "data": {
      "text/plain": [
       "(0.5679545920984368, 4)"
      ]
     },
     "execution_count": 36,
     "metadata": {},
     "output_type": "execute_result"
    }
   ],
   "source": [
    "sorted(r2_score_list)[len(r2_score_list)-1]"
   ]
  },
  {
   "cell_type": "code",
   "execution_count": 37,
   "metadata": {},
   "outputs": [
    {
     "name": "stdout",
     "output_type": "stream",
     "text": [
      "mark            citroen\n",
      "model         c4-cactus\n",
      "year               2017\n",
      "mileage          108250\n",
      "vol_engine         1560\n",
      "fuel             Diesel\n",
      "city              Konin\n",
      "Name: 82617, dtype: object\n",
      "44700\n"
     ]
    }
   ],
   "source": [
    "print(x_test.iloc[90])\n",
    "print(y_test.iloc[90])"
   ]
  },
  {
   "cell_type": "code",
   "execution_count": 38,
   "metadata": {},
   "outputs": [
    {
     "data": {
      "text/plain": [
       "array([85380.04637529])"
      ]
     },
     "execution_count": 38,
     "metadata": {},
     "output_type": "execute_result"
    }
   ],
   "source": [
    "pipe.predict(pd.DataFrame([['nissan','patrol',2000,35000,2953,'Diesel','Rybarzowice']],columns = ['mark','model','year','mileage','vol_engine','fuel','city']))"
   ]
  },
  {
   "cell_type": "code",
   "execution_count": 39,
   "metadata": {},
   "outputs": [],
   "source": [
    "import pickle"
   ]
  },
  {
   "cell_type": "code",
   "execution_count": 40,
   "metadata": {},
   "outputs": [],
   "source": [
    "pickle.dump(pipe, open(\"LinearRegression.pkl\",\"wb\"))"
   ]
  },
  {
   "cell_type": "markdown",
   "metadata": {},
   "source": [
    "MEthod 2 : only selecting numerical columns"
   ]
  },
  {
   "cell_type": "code",
   "execution_count": 41,
   "metadata": {},
   "outputs": [],
   "source": [
    "numeric_df = df[['year','mileage','vol_engine']]\n",
    "target = df['price']"
   ]
  },
  {
   "cell_type": "code",
   "execution_count": 42,
   "metadata": {},
   "outputs": [],
   "source": [
    "X_train, x_test, y_train, y_test = train_test_split(numeric_df, target, test_size=0.3, random_state=639)"
   ]
  },
  {
   "cell_type": "code",
   "execution_count": 43,
   "metadata": {},
   "outputs": [],
   "source": [
    "numeric_lr = LinearRegression()"
   ]
  },
  {
   "cell_type": "code",
   "execution_count": 44,
   "metadata": {},
   "outputs": [
    {
     "data": {
      "text/html": [
       "<style>#sk-container-id-3 {color: black;}#sk-container-id-3 pre{padding: 0;}#sk-container-id-3 div.sk-toggleable {background-color: white;}#sk-container-id-3 label.sk-toggleable__label {cursor: pointer;display: block;width: 100%;margin-bottom: 0;padding: 0.3em;box-sizing: border-box;text-align: center;}#sk-container-id-3 label.sk-toggleable__label-arrow:before {content: \"▸\";float: left;margin-right: 0.25em;color: #696969;}#sk-container-id-3 label.sk-toggleable__label-arrow:hover:before {color: black;}#sk-container-id-3 div.sk-estimator:hover label.sk-toggleable__label-arrow:before {color: black;}#sk-container-id-3 div.sk-toggleable__content {max-height: 0;max-width: 0;overflow: hidden;text-align: left;background-color: #f0f8ff;}#sk-container-id-3 div.sk-toggleable__content pre {margin: 0.2em;color: black;border-radius: 0.25em;background-color: #f0f8ff;}#sk-container-id-3 input.sk-toggleable__control:checked~div.sk-toggleable__content {max-height: 200px;max-width: 100%;overflow: auto;}#sk-container-id-3 input.sk-toggleable__control:checked~label.sk-toggleable__label-arrow:before {content: \"▾\";}#sk-container-id-3 div.sk-estimator input.sk-toggleable__control:checked~label.sk-toggleable__label {background-color: #d4ebff;}#sk-container-id-3 div.sk-label input.sk-toggleable__control:checked~label.sk-toggleable__label {background-color: #d4ebff;}#sk-container-id-3 input.sk-hidden--visually {border: 0;clip: rect(1px 1px 1px 1px);clip: rect(1px, 1px, 1px, 1px);height: 1px;margin: -1px;overflow: hidden;padding: 0;position: absolute;width: 1px;}#sk-container-id-3 div.sk-estimator {font-family: monospace;background-color: #f0f8ff;border: 1px dotted black;border-radius: 0.25em;box-sizing: border-box;margin-bottom: 0.5em;}#sk-container-id-3 div.sk-estimator:hover {background-color: #d4ebff;}#sk-container-id-3 div.sk-parallel-item::after {content: \"\";width: 100%;border-bottom: 1px solid gray;flex-grow: 1;}#sk-container-id-3 div.sk-label:hover label.sk-toggleable__label {background-color: #d4ebff;}#sk-container-id-3 div.sk-serial::before {content: \"\";position: absolute;border-left: 1px solid gray;box-sizing: border-box;top: 0;bottom: 0;left: 50%;z-index: 0;}#sk-container-id-3 div.sk-serial {display: flex;flex-direction: column;align-items: center;background-color: white;padding-right: 0.2em;padding-left: 0.2em;position: relative;}#sk-container-id-3 div.sk-item {position: relative;z-index: 1;}#sk-container-id-3 div.sk-parallel {display: flex;align-items: stretch;justify-content: center;background-color: white;position: relative;}#sk-container-id-3 div.sk-item::before, #sk-container-id-3 div.sk-parallel-item::before {content: \"\";position: absolute;border-left: 1px solid gray;box-sizing: border-box;top: 0;bottom: 0;left: 50%;z-index: -1;}#sk-container-id-3 div.sk-parallel-item {display: flex;flex-direction: column;z-index: 1;position: relative;background-color: white;}#sk-container-id-3 div.sk-parallel-item:first-child::after {align-self: flex-end;width: 50%;}#sk-container-id-3 div.sk-parallel-item:last-child::after {align-self: flex-start;width: 50%;}#sk-container-id-3 div.sk-parallel-item:only-child::after {width: 0;}#sk-container-id-3 div.sk-dashed-wrapped {border: 1px dashed gray;margin: 0 0.4em 0.5em 0.4em;box-sizing: border-box;padding-bottom: 0.4em;background-color: white;}#sk-container-id-3 div.sk-label label {font-family: monospace;font-weight: bold;display: inline-block;line-height: 1.2em;}#sk-container-id-3 div.sk-label-container {text-align: center;}#sk-container-id-3 div.sk-container {/* jupyter's `normalize.less` sets `[hidden] { display: none; }` but bootstrap.min.css set `[hidden] { display: none !important; }` so we also need the `!important` here to be able to override the default hidden behavior on the sphinx rendered scikit-learn.org. See: https://github.com/scikit-learn/scikit-learn/issues/21755 */display: inline-block !important;position: relative;}#sk-container-id-3 div.sk-text-repr-fallback {display: none;}</style><div id=\"sk-container-id-3\" class=\"sk-top-container\"><div class=\"sk-text-repr-fallback\"><pre>LinearRegression()</pre><b>In a Jupyter environment, please rerun this cell to show the HTML representation or trust the notebook. <br />On GitHub, the HTML representation is unable to render, please try loading this page with nbviewer.org.</b></div><div class=\"sk-container\" hidden><div class=\"sk-item\"><div class=\"sk-estimator sk-toggleable\"><input class=\"sk-toggleable__control sk-hidden--visually\" id=\"sk-estimator-id-9\" type=\"checkbox\" checked><label for=\"sk-estimator-id-9\" class=\"sk-toggleable__label sk-toggleable__label-arrow\">LinearRegression</label><div class=\"sk-toggleable__content\"><pre>LinearRegression()</pre></div></div></div></div></div>"
      ],
      "text/plain": [
       "LinearRegression()"
      ]
     },
     "execution_count": 44,
     "metadata": {},
     "output_type": "execute_result"
    }
   ],
   "source": [
    "numeric_lr.fit(X_train, y_train)"
   ]
  },
  {
   "cell_type": "code",
   "execution_count": 45,
   "metadata": {},
   "outputs": [
    {
     "name": "stdout",
     "output_type": "stream",
     "text": [
      "0.5633748650872236\n"
     ]
    }
   ],
   "source": [
    "y_pred = numeric_lr.predict(x_test)\n",
    "print(r2_score(y_test, y_pred))"
   ]
  },
  {
   "cell_type": "code",
   "execution_count": 46,
   "metadata": {},
   "outputs": [],
   "source": [
    "pickle.dump(numeric_lr, open(\"LinearRegression2.pkl\",\"wb\"))"
   ]
  },
  {
   "cell_type": "code",
   "execution_count": 47,
   "metadata": {},
   "outputs": [
    {
     "data": {
      "text/plain": [
       "81701.69420889392"
      ]
     },
     "execution_count": 47,
     "metadata": {},
     "output_type": "execute_result"
    }
   ],
   "source": [
    "numeric_lr.predict(X_train.head(1))[0]"
   ]
  },
  {
   "cell_type": "code",
   "execution_count": null,
   "metadata": {},
   "outputs": [],
   "source": []
  }
 ],
 "metadata": {
  "kernelspec": {
   "display_name": "Python 3",
   "language": "python",
   "name": "python3"
  },
  "language_info": {
   "codemirror_mode": {
    "name": "ipython",
    "version": 3
   },
   "file_extension": ".py",
   "mimetype": "text/x-python",
   "name": "python",
   "nbconvert_exporter": "python",
   "pygments_lexer": "ipython3",
   "version": "3.10.12"
  }
 },
 "nbformat": 4,
 "nbformat_minor": 2
}
